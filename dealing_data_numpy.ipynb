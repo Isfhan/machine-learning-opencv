{
  "nbformat": 4,
  "nbformat_minor": 0,
  "metadata": {
    "colab": {
      "name": "dealing-data-numpy.ipynb",
      "provenance": [],
      "collapsed_sections": [],
      "authorship_tag": "ABX9TyP0YpzTEVqyjN1OpTtEmwmB",
      "include_colab_link": true
    },
    "kernelspec": {
      "name": "python3",
      "display_name": "Python 3"
    }
  },
  "cells": [
    {
      "cell_type": "markdown",
      "metadata": {
        "id": "view-in-github",
        "colab_type": "text"
      },
      "source": [
        "<a href=\"https://colab.research.google.com/github/Isfhan/machine-learning-opencv/blob/master/dealing_data_numpy.ipynb\" target=\"_parent\"><img src=\"https://colab.research.google.com/assets/colab-badge.svg\" alt=\"Open In Colab\"/></a>"
      ]
    },
    {
      "cell_type": "markdown",
      "metadata": {
        "id": "EWNhKhkVeJKa",
        "colab_type": "text"
      },
      "source": [
        "#Dealing with data using Python's NumPy package"
      ]
    },
    {
      "cell_type": "code",
      "metadata": {
        "id": "bZFTX_UxdFEF",
        "colab_type": "code",
        "colab": {}
      },
      "source": [
        "#importing Numpy\n",
        "import numpy as np"
      ],
      "execution_count": 1,
      "outputs": []
    },
    {
      "cell_type": "code",
      "metadata": {
        "id": "JOQ-W1_-eDAY",
        "colab_type": "code",
        "colab": {
          "base_uri": "https://localhost:8080/",
          "height": 36
        },
        "outputId": "c500a976-46b5-4aeb-c970-f37fa5525a57"
      },
      "source": [
        "#Checking Version\n",
        "np.__version__"
      ],
      "execution_count": 2,
      "outputs": [
        {
          "output_type": "execute_result",
          "data": {
            "application/vnd.google.colaboratory.intrinsic+json": {
              "type": "string"
            },
            "text/plain": [
              "'1.18.5'"
            ]
          },
          "metadata": {
            "tags": []
          },
          "execution_count": 2
        }
      ]
    },
    {
      "cell_type": "markdown",
      "metadata": {
        "id": "9KATJqPDfA6G",
        "colab_type": "text"
      },
      "source": [
        "##Understanding NumPy arrays"
      ]
    },
    {
      "cell_type": "code",
      "metadata": {
        "id": "uLNBqW3ceobz",
        "colab_type": "code",
        "colab": {
          "base_uri": "https://localhost:8080/",
          "height": 35
        },
        "outputId": "21d1852f-d909-46ca-d0b5-1d06fc792e1d"
      },
      "source": [
        "# Creating a list in Python\n",
        "init_list = list(range(10))\n",
        "init_list"
      ],
      "execution_count": 3,
      "outputs": [
        {
          "output_type": "execute_result",
          "data": {
            "text/plain": [
              "[0, 1, 2, 3, 4, 5, 6, 7, 8, 9]"
            ]
          },
          "metadata": {
            "tags": []
          },
          "execution_count": 3
        }
      ]
    },
    {
      "cell_type": "code",
      "metadata": {
        "id": "476OVa0ffgZX",
        "colab_type": "code",
        "colab": {
          "base_uri": "https://localhost:8080/",
          "height": 35
        },
        "outputId": "9dd753ef-8828-4718-cf8e-56eadbf5d666"
      },
      "source": [
        "# Converting list in Numpy array \n",
        "init_array = np.array(init_list)\n",
        "init_array"
      ],
      "execution_count": 4,
      "outputs": [
        {
          "output_type": "execute_result",
          "data": {
            "text/plain": [
              "array([0, 1, 2, 3, 4, 5, 6, 7, 8, 9])"
            ]
          },
          "metadata": {
            "tags": []
          },
          "execution_count": 4
        }
      ]
    },
    {
      "cell_type": "code",
      "metadata": {
        "id": "RElL2s0OiJ0D",
        "colab_type": "code",
        "colab": {}
      },
      "source": [
        ""
      ],
      "execution_count": 4,
      "outputs": []
    },
    {
      "cell_type": "code",
      "metadata": {
        "id": "PemZp-NlfsYK",
        "colab_type": "code",
        "colab": {
          "base_uri": "https://localhost:8080/",
          "height": 35
        },
        "outputId": "c9c645a8-1ae3-41b6-fc4a-dcf677b8bab3"
      },
      "source": [
        "# Lets see what happen when we try to multiply every element in the array \n",
        "init_array * 2\n",
        "# The same works with addition, subtraction, division, and many other functions."
      ],
      "execution_count": 5,
      "outputs": [
        {
          "output_type": "execute_result",
          "data": {
            "text/plain": [
              "array([ 0,  2,  4,  6,  8, 10, 12, 14, 16, 18])"
            ]
          },
          "metadata": {
            "tags": []
          },
          "execution_count": 5
        }
      ]
    },
    {
      "cell_type": "code",
      "metadata": {
        "id": "HhS4Xvx3gLTI",
        "colab_type": "code",
        "colab": {
          "base_uri": "https://localhost:8080/",
          "height": 90
        },
        "outputId": "22326ec5-60c4-4f13-c426-20e653f0f9a6"
      },
      "source": [
        "# Every NumPy array comes with the following attributes:\n",
        "# ndim: The number of dimensions\n",
        "# shape: The size of each dimension\n",
        "# size: The total number of elements in the array\n",
        "# dtype: The data type of the array (for example, int, float, string, and so on)\n",
        "\n",
        "\n",
        "\n",
        "print(\"init_array ndim: The number of dimensions\",init_array.ndim)\n",
        "print(\"init_array The size of each dimension\", init_array.shape)\n",
        "print(\"init_array size: The total number of elements in the array\", init_array.size)\n",
        "print(\"init_array dtype: The data type of the array\",init_array.dtype)\n",
        "\n",
        "\n"
      ],
      "execution_count": 6,
      "outputs": [
        {
          "output_type": "stream",
          "text": [
            "init_array ndim: The number of dimensions 1\n",
            "init_array The size of each dimension (10,)\n",
            "init_array size: The total number of elements in the array 10\n",
            "init_array dtype: The data type of the array int64\n"
          ],
          "name": "stdout"
        }
      ]
    },
    {
      "cell_type": "code",
      "metadata": {
        "id": "OQnOdFPIhzmn",
        "colab_type": "code",
        "colab": {
          "base_uri": "https://localhost:8080/",
          "height": 35
        },
        "outputId": "878ea506-fc0c-4e6a-d5ac-16af0cba3543"
      },
      "source": [
        "# Accessing 1D array elements by indexing\n",
        "init_array[0]"
      ],
      "execution_count": 7,
      "outputs": [
        {
          "output_type": "execute_result",
          "data": {
            "text/plain": [
              "0"
            ]
          },
          "metadata": {
            "tags": []
          },
          "execution_count": 7
        }
      ]
    },
    {
      "cell_type": "code",
      "metadata": {
        "id": "avJ__ZPejBV9",
        "colab_type": "code",
        "colab": {
          "base_uri": "https://localhost:8080/",
          "height": 35
        },
        "outputId": "be00dd0d-1101-49c9-c612-57db4fe83844"
      },
      "source": [
        "init_array[3]"
      ],
      "execution_count": 8,
      "outputs": [
        {
          "output_type": "execute_result",
          "data": {
            "text/plain": [
              "3"
            ]
          },
          "metadata": {
            "tags": []
          },
          "execution_count": 8
        }
      ]
    },
    {
      "cell_type": "code",
      "metadata": {
        "id": "EjB05oz0jRej",
        "colab_type": "code",
        "colab": {
          "base_uri": "https://localhost:8080/",
          "height": 35
        },
        "outputId": "8cd9900a-c470-454b-c328-229fa339cf87"
      },
      "source": [
        "init_array[-1]\n"
      ],
      "execution_count": 9,
      "outputs": [
        {
          "output_type": "execute_result",
          "data": {
            "text/plain": [
              "9"
            ]
          },
          "metadata": {
            "tags": []
          },
          "execution_count": 9
        }
      ]
    },
    {
      "cell_type": "code",
      "metadata": {
        "id": "q-5xVvwKjYZj",
        "colab_type": "code",
        "colab": {
          "base_uri": "https://localhost:8080/",
          "height": 35
        },
        "outputId": "d9fb4c8a-8245-4369-87e7-ae6d9c446f3f"
      },
      "source": [
        "init_array[-2]"
      ],
      "execution_count": 10,
      "outputs": [
        {
          "output_type": "execute_result",
          "data": {
            "text/plain": [
              "8"
            ]
          },
          "metadata": {
            "tags": []
          },
          "execution_count": 10
        }
      ]
    },
    {
      "cell_type": "code",
      "metadata": {
        "id": "UsS9z72UjbqT",
        "colab_type": "code",
        "colab": {
          "base_uri": "https://localhost:8080/",
          "height": 35
        },
        "outputId": "8834f209-dacb-4966-a0f4-96a3d2586f40"
      },
      "source": [
        "# Slicing Array\n",
        "# from index 2 up to index 5 - 1\n",
        "init_array[2:5]"
      ],
      "execution_count": 11,
      "outputs": [
        {
          "output_type": "execute_result",
          "data": {
            "text/plain": [
              "array([2, 3, 4])"
            ]
          },
          "metadata": {
            "tags": []
          },
          "execution_count": 11
        }
      ]
    },
    {
      "cell_type": "code",
      "metadata": {
        "id": "prckIT7sjm56",
        "colab_type": "code",
        "colab": {
          "base_uri": "https://localhost:8080/",
          "height": 35
        },
        "outputId": "25c98fda-2953-40db-c88c-ca16dc26598f"
      },
      "source": [
        "# from the beginning up to index 5 - 1\n",
        "init_array[:5]"
      ],
      "execution_count": 12,
      "outputs": [
        {
          "output_type": "execute_result",
          "data": {
            "text/plain": [
              "array([0, 1, 2, 3, 4])"
            ]
          },
          "metadata": {
            "tags": []
          },
          "execution_count": 12
        }
      ]
    },
    {
      "cell_type": "code",
      "metadata": {
        "id": "Jk4bSe-hjqWr",
        "colab_type": "code",
        "colab": {
          "base_uri": "https://localhost:8080/",
          "height": 35
        },
        "outputId": "fc713cd0-5912-45af-d55f-c4492d2662cc"
      },
      "source": [
        "# from index 5 up to the end of the array\n",
        "init_array[5:]"
      ],
      "execution_count": 13,
      "outputs": [
        {
          "output_type": "execute_result",
          "data": {
            "text/plain": [
              "array([5, 6, 7, 8, 9])"
            ]
          },
          "metadata": {
            "tags": []
          },
          "execution_count": 13
        }
      ]
    },
    {
      "cell_type": "code",
      "metadata": {
        "id": "tm1OyArMjvLT",
        "colab_type": "code",
        "colab": {
          "base_uri": "https://localhost:8080/",
          "height": 35
        },
        "outputId": "71b53767-3aef-4a52-b59c-98101267a2a1"
      },
      "source": [
        "# every other element\n",
        "init_array[::2]"
      ],
      "execution_count": 14,
      "outputs": [
        {
          "output_type": "execute_result",
          "data": {
            "text/plain": [
              "array([0, 2, 4, 6, 8])"
            ]
          },
          "metadata": {
            "tags": []
          },
          "execution_count": 14
        }
      ]
    },
    {
      "cell_type": "code",
      "metadata": {
        "id": "yyVOeOQrkTTr",
        "colab_type": "code",
        "colab": {
          "base_uri": "https://localhost:8080/",
          "height": 35
        },
        "outputId": "e7a5c195-ddc9-4433-da47-b51274275431"
      },
      "source": [
        "# the entire array in reverse order\n",
        "init_array[::-1]"
      ],
      "execution_count": 15,
      "outputs": [
        {
          "output_type": "execute_result",
          "data": {
            "text/plain": [
              "array([9, 8, 7, 6, 5, 4, 3, 2, 1, 0])"
            ]
          },
          "metadata": {
            "tags": []
          },
          "execution_count": 15
        }
      ]
    },
    {
      "cell_type": "code",
      "metadata": {
        "id": "QTwNi1fbkUny",
        "colab_type": "code",
        "colab": {
          "base_uri": "https://localhost:8080/",
          "height": 72
        },
        "outputId": "f3b17846-fd90-4d4f-b18a-abb58e8bf9c1"
      },
      "source": [
        "#Creating multidimensional arrays \n",
        "array_2d = np.zeros((3,5))\n",
        "#here row = 3 and column = 5\n",
        "array_2d\n",
        "#if we dont specify datatype numpy will use default floats"
      ],
      "execution_count": 16,
      "outputs": [
        {
          "output_type": "execute_result",
          "data": {
            "text/plain": [
              "array([[0., 0., 0., 0., 0.],\n",
              "       [0., 0., 0., 0., 0.],\n",
              "       [0., 0., 0., 0., 0.]])"
            ]
          },
          "metadata": {
            "tags": []
          },
          "execution_count": 16
        }
      ]
    },
    {
      "cell_type": "code",
      "metadata": {
        "id": "vS9TVtbHjn4x",
        "colab_type": "code",
        "colab": {
          "base_uri": "https://localhost:8080/",
          "height": 164
        },
        "outputId": "e90e75e3-aefd-4b79-e870-81fa322684c1"
      },
      "source": [
        "array_3d = np.ones((3,2,4))\n",
        "# dimensions = 3 row = 2 and column = 4\n",
        "array_3d"
      ],
      "execution_count": 17,
      "outputs": [
        {
          "output_type": "execute_result",
          "data": {
            "text/plain": [
              "array([[[1., 1., 1., 1.],\n",
              "        [1., 1., 1., 1.]],\n",
              "\n",
              "       [[1., 1., 1., 1.],\n",
              "        [1., 1., 1., 1.]],\n",
              "\n",
              "       [[1., 1., 1., 1.],\n",
              "        [1., 1., 1., 1.]]])"
            ]
          },
          "metadata": {
            "tags": []
          },
          "execution_count": 17
        }
      ]
    },
    {
      "cell_type": "code",
      "metadata": {
        "id": "qIcrMGqMl11T",
        "colab_type": "code",
        "colab": {
          "base_uri": "https://localhost:8080/",
          "height": 54
        },
        "outputId": "7c49db77-1f4a-4a68-cba0-18b9268a54c2"
      },
      "source": [
        "# grabing first array or dimension\n",
        "array_3d[0]"
      ],
      "execution_count": 18,
      "outputs": [
        {
          "output_type": "execute_result",
          "data": {
            "text/plain": [
              "array([[1., 1., 1., 1.],\n",
              "       [1., 1., 1., 1.]])"
            ]
          },
          "metadata": {
            "tags": []
          },
          "execution_count": 18
        }
      ]
    },
    {
      "cell_type": "markdown",
      "metadata": {
        "id": "TYqzPGwIm7qp",
        "colab_type": "text"
      },
      "source": [
        "## Loading external datasets in python "
      ]
    },
    {
      "cell_type": "code",
      "metadata": {
        "id": "-coj1PTnmWRS",
        "colab_type": "code",
        "colab": {
          "base_uri": "https://localhost:8080/",
          "height": 35
        },
        "outputId": "30ef9d7b-7124-4caa-d43d-88193bf2f180"
      },
      "source": [
        "# for learning you can use scikit-learn datasets\n",
        "# scikit-learn comes with a few small standard datasets that do not require to download any file from some external website.\n",
        "from sklearn import datasets\n",
        "digits = datasets.load_digits()\n",
        "digits.data.shape"
      ],
      "execution_count": 19,
      "outputs": [
        {
          "output_type": "execute_result",
          "data": {
            "text/plain": [
              "(1797, 64)"
            ]
          },
          "metadata": {
            "tags": []
          },
          "execution_count": 19
        }
      ]
    },
    {
      "cell_type": "code",
      "metadata": {
        "id": "Z_WpFyv3qEuH",
        "colab_type": "code",
        "colab": {
          "base_uri": "https://localhost:8080/",
          "height": 35
        },
        "outputId": "b0063b9d-0d51-4c58-9676-45df68fa45f4"
      },
      "source": [
        "digits.target.shape"
      ],
      "execution_count": 20,
      "outputs": [
        {
          "output_type": "execute_result",
          "data": {
            "text/plain": [
              "(1797,)"
            ]
          },
          "metadata": {
            "tags": []
          },
          "execution_count": 20
        }
      ]
    },
    {
      "cell_type": "code",
      "metadata": {
        "id": "paCzmw0HsZjQ",
        "colab_type": "code",
        "colab": {
          "base_uri": "https://localhost:8080/",
          "height": 35
        },
        "outputId": "c56155a8-01bc-4f5b-f8f0-f9fe05f5213a"
      },
      "source": [
        "# numpy get unique valus \n",
        "np.unique(digits.target)"
      ],
      "execution_count": 21,
      "outputs": [
        {
          "output_type": "execute_result",
          "data": {
            "text/plain": [
              "array([0, 1, 2, 3, 4, 5, 6, 7, 8, 9])"
            ]
          },
          "metadata": {
            "tags": []
          },
          "execution_count": 21
        }
      ]
    },
    {
      "cell_type": "markdown",
      "metadata": {
        "id": "J1gzz9F6tWx0",
        "colab_type": "text"
      },
      "source": [
        "## Visualizing data using matplotlib"
      ]
    },
    {
      "cell_type": "code",
      "metadata": {
        "id": "M0KrzB0utAMm",
        "colab_type": "code",
        "colab": {}
      },
      "source": [
        "# Using matplotlib we can visual or data \n",
        "import matplotlib as mpl\n",
        "import matplotlib.pyplot as plt"
      ],
      "execution_count": 22,
      "outputs": []
    },
    {
      "cell_type": "code",
      "metadata": {
        "id": "Yprew6nEuXAO",
        "colab_type": "code",
        "colab": {
          "base_uri": "https://localhost:8080/",
          "height": 384
        },
        "outputId": "035eda1f-3b58-400d-9693-687d1d4dab63"
      },
      "source": [
        "# Producing a simple plot \n",
        "x = np.linspace(0,10,100)\n",
        "x"
      ],
      "execution_count": 23,
      "outputs": [
        {
          "output_type": "execute_result",
          "data": {
            "text/plain": [
              "array([ 0.        ,  0.1010101 ,  0.2020202 ,  0.3030303 ,  0.4040404 ,\n",
              "        0.50505051,  0.60606061,  0.70707071,  0.80808081,  0.90909091,\n",
              "        1.01010101,  1.11111111,  1.21212121,  1.31313131,  1.41414141,\n",
              "        1.51515152,  1.61616162,  1.71717172,  1.81818182,  1.91919192,\n",
              "        2.02020202,  2.12121212,  2.22222222,  2.32323232,  2.42424242,\n",
              "        2.52525253,  2.62626263,  2.72727273,  2.82828283,  2.92929293,\n",
              "        3.03030303,  3.13131313,  3.23232323,  3.33333333,  3.43434343,\n",
              "        3.53535354,  3.63636364,  3.73737374,  3.83838384,  3.93939394,\n",
              "        4.04040404,  4.14141414,  4.24242424,  4.34343434,  4.44444444,\n",
              "        4.54545455,  4.64646465,  4.74747475,  4.84848485,  4.94949495,\n",
              "        5.05050505,  5.15151515,  5.25252525,  5.35353535,  5.45454545,\n",
              "        5.55555556,  5.65656566,  5.75757576,  5.85858586,  5.95959596,\n",
              "        6.06060606,  6.16161616,  6.26262626,  6.36363636,  6.46464646,\n",
              "        6.56565657,  6.66666667,  6.76767677,  6.86868687,  6.96969697,\n",
              "        7.07070707,  7.17171717,  7.27272727,  7.37373737,  7.47474747,\n",
              "        7.57575758,  7.67676768,  7.77777778,  7.87878788,  7.97979798,\n",
              "        8.08080808,  8.18181818,  8.28282828,  8.38383838,  8.48484848,\n",
              "        8.58585859,  8.68686869,  8.78787879,  8.88888889,  8.98989899,\n",
              "        9.09090909,  9.19191919,  9.29292929,  9.39393939,  9.49494949,\n",
              "        9.5959596 ,  9.6969697 ,  9.7979798 ,  9.8989899 , 10.        ])"
            ]
          },
          "metadata": {
            "tags": []
          },
          "execution_count": 23
        }
      ]
    },
    {
      "cell_type": "code",
      "metadata": {
        "id": "C0b0a2VYuxVx",
        "colab_type": "code",
        "colab": {
          "base_uri": "https://localhost:8080/",
          "height": 283
        },
        "outputId": "c6b8c6c2-74bc-4aac-b09d-5cfab8c9044f"
      },
      "source": [
        "plt.plot(x,np.sin(x))\n",
        "# if you are runing .py file than call plt.show()"
      ],
      "execution_count": 24,
      "outputs": [
        {
          "output_type": "execute_result",
          "data": {
            "text/plain": [
              "[<matplotlib.lines.Line2D at 0x7f6d43a3fcf8>]"
            ]
          },
          "metadata": {
            "tags": []
          },
          "execution_count": 24
        },
        {
          "output_type": "display_data",
          "data": {
            "image/png": "[encoded data removed]",
            "text/plain": [
              "<Figure size 432x288 with 1 Axes>"
            ]
          },
          "metadata": {
            "tags": [],
            "needs_background": "light"
          }
        }
      ]
    },
    {
      "cell_type": "code",
      "metadata": {
        "id": "Va6jjHWCuvWd",
        "colab_type": "code",
        "colab": {
          "base_uri": "https://localhost:8080/",
          "height": 35
        },
        "outputId": "e5573c5c-c94f-4229-840f-7021fe2de572"
      },
      "source": [
        "plt.savefig('line-plot.png')"
      ],
      "execution_count": 25,
      "outputs": [
        {
          "output_type": "display_data",
          "data": {
            "text/plain": [
              "<Figure size 432x288 with 0 Axes>"
            ]
          },
          "metadata": {
            "tags": []
          }
        }
      ]
    },
    {
      "cell_type": "code",
      "metadata": {
        "id": "y3Y2GXa7w1DJ",
        "colab_type": "code",
        "colab": {
          "base_uri": "https://localhost:8080/",
          "height": 54
        },
        "outputId": "43d97f76-d6d8-4c83-e1ef-4f8d903dadcc"
      },
      "source": [
        "#Lets plot on sklearn dataset\n",
        "\n",
        "print(digits.images.shape)\n",
        "print(len(digits.images))"
      ],
      "execution_count": 33,
      "outputs": [
        {
          "output_type": "stream",
          "text": [
            "(1797, 8, 8)\n",
            "1797\n"
          ],
          "name": "stdout"
        }
      ]
    },
    {
      "cell_type": "code",
      "metadata": {
        "id": "rVnLkfDdWpYp",
        "colab_type": "code",
        "colab": {
          "base_uri": "https://localhost:8080/",
          "height": 283
        },
        "outputId": "50075232-77cc-47dd-d9d9-94d9434ee164"
      },
      "source": [
        "img = digits.images[0]\n",
        "plt.imshow(img,cmap='gray')"
      ],
      "execution_count": 41,
      "outputs": [
        {
          "output_type": "execute_result",
          "data": {
            "text/plain": [
              "<matplotlib.image.AxesImage at 0x7f6d3b2a79e8>"
            ]
          },
          "metadata": {
            "tags": []
          },
          "execution_count": 41
        },
        {
          "output_type": "display_data",
          "data": {
            "image/png": "[encoded data removed]",
            "text/plain": [
              "<Figure size 432x288 with 1 Axes>"
            ]
          },
          "metadata": {
            "tags": [],
            "needs_background": "light"
          }
        }
      ]
    },
    {
      "cell_type": "code",
      "metadata": {
        "id": "cJ2yKJJaYVhC",
        "colab_type": "code",
        "colab": {
          "base_uri": "https://localhost:8080/",
          "height": 225
        },
        "outputId": "aa031f6d-f4c1-4d7d-f18e-4b6650387418"
      },
      "source": [
        "#let show first 10 images of dataset\n",
        "\n",
        "for index in range(10):\n",
        "  # images are 0 indexed but subplot are 1 indexed\n",
        "  subplot_index = index + 1\n",
        "  plt.subplot(2,5,subplot_index)\n",
        "  plt.imshow(digits.images[index],cmap='gray')"
      ],
      "execution_count": 49,
      "outputs": [
        {
          "output_type": "display_data",
          "data": {
            "image/png": "[encoded data removed]",
            "text/plain": [
              "<Figure size 432x288 with 10 Axes>"
            ]
          },
          "metadata": {
            "tags": [],
            "needs_background": "light"
          }
        }
      ]
    },
    {
      "cell_type": "code",
      "metadata": {
        "id": "alDPlIlHZd4F",
        "colab_type": "code",
        "colab": {}
      },
      "source": [
        ""
      ],
      "execution_count": null,
      "outputs": []
    }
  ]
}